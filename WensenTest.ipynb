{
  "nbformat": 4,
  "nbformat_minor": 0,
  "metadata": {
    "colab": {
      "name": "WensenTest.ipynb",
      "provenance": [],
      "include_colab_link": true
    },
    "kernelspec": {
      "name": "python3",
      "display_name": "Python 3"
    },
    "language_info": {
      "name": "python"
    }
  },
  "cells": [
    {
      "cell_type": "markdown",
      "metadata": {
        "id": "view-in-github",
        "colab_type": "text"
      },
      "source": [
        "<a href=\"https://colab.research.google.com/github/BCIPRO/Test/blob/main/WensenTest.ipynb\" target=\"_parent\"><img src=\"https://colab.research.google.com/assets/colab-badge.svg\" alt=\"Open In Colab\"/></a>"
      ]
    },
    {
      "cell_type": "code",
      "metadata": {
        "id": "5C_SK_JgiQtk"
      },
      "source": [
        "# Test Commit\n",
        "\n",
        "# Test Commit 2\n",
        "\n",
        "# Test Commit 3\n",
        "\n",
        "print(\"Testing if this works\")"
      ],
      "execution_count": null,
      "outputs": []
    }
  ]
}